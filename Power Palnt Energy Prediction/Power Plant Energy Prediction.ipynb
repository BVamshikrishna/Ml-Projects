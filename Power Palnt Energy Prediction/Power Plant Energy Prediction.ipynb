{
 "cells": [
  {
   "cell_type": "code",
   "execution_count": 1,
   "metadata": {},
   "outputs": [],
   "source": [
    "import pandas as pd\n",
    "import numpy as np"
   ]
  },
  {
   "cell_type": "code",
   "execution_count": 2,
   "metadata": {},
   "outputs": [
    {
     "name": "stdout",
     "output_type": "stream",
     "text": [
      "<class 'pandas.core.frame.DataFrame'>\n",
      "RangeIndex: 8000 entries, 0 to 7999\n",
      "Data columns (total 5 columns):\n",
      " #   Column  Non-Null Count  Dtype  \n",
      "---  ------  --------------  -----  \n",
      " 0   AT      8000 non-null   float64\n",
      " 1   V       8000 non-null   float64\n",
      " 2   AP      8000 non-null   float64\n",
      " 3   RH      8000 non-null   float64\n",
      " 4   PE      8000 non-null   float64\n",
      "dtypes: float64(5)\n",
      "memory usage: 312.6 KB\n"
     ]
    }
   ],
   "source": [
    "train_df = pd.read_csv(r'C:\\Users\\Vamshikrishna\\Desktop\\Power Palnt Energy Prediction\\TRAIN.csv')\n",
    "train_df.info()"
   ]
  },
  {
   "cell_type": "code",
   "execution_count": 3,
   "metadata": {},
   "outputs": [
    {
     "name": "stdout",
     "output_type": "stream",
     "text": [
      "<class 'pandas.core.frame.DataFrame'>\n",
      "RangeIndex: 1568 entries, 0 to 1567\n",
      "Data columns (total 4 columns):\n",
      " #   Column  Non-Null Count  Dtype  \n",
      "---  ------  --------------  -----  \n",
      " 0   AT      1568 non-null   float64\n",
      " 1   V       1568 non-null   float64\n",
      " 2   AP      1568 non-null   float64\n",
      " 3   RH      1568 non-null   float64\n",
      "dtypes: float64(4)\n",
      "memory usage: 49.1 KB\n"
     ]
    }
   ],
   "source": [
    "test_df = pd.read_csv(r'C:\\Users\\Vamshikrishna\\Desktop\\Power Palnt Energy Prediction\\TEST.csv')\n",
    "test_df.info()"
   ]
  },
  {
   "cell_type": "code",
   "execution_count": 4,
   "metadata": {},
   "outputs": [
    {
     "data": {
      "text/plain": [
       "AT    0\n",
       "V     0\n",
       "AP    0\n",
       "RH    0\n",
       "PE    0\n",
       "dtype: int64"
      ]
     },
     "execution_count": 4,
     "metadata": {},
     "output_type": "execute_result"
    }
   ],
   "source": [
    "train_df.isnull().sum()"
   ]
  },
  {
   "cell_type": "code",
   "execution_count": 5,
   "metadata": {},
   "outputs": [
    {
     "data": {
      "text/plain": [
       "AT    0\n",
       "V     0\n",
       "AP    0\n",
       "RH    0\n",
       "dtype: int64"
      ]
     },
     "execution_count": 5,
     "metadata": {},
     "output_type": "execute_result"
    }
   ],
   "source": [
    "test_df.isnull().sum()"
   ]
  },
  {
   "cell_type": "code",
   "execution_count": 6,
   "metadata": {},
   "outputs": [
    {
     "data": {
      "text/html": [
       "<div>\n",
       "<style scoped>\n",
       "    .dataframe tbody tr th:only-of-type {\n",
       "        vertical-align: middle;\n",
       "    }\n",
       "\n",
       "    .dataframe tbody tr th {\n",
       "        vertical-align: top;\n",
       "    }\n",
       "\n",
       "    .dataframe thead th {\n",
       "        text-align: right;\n",
       "    }\n",
       "</style>\n",
       "<table border=\"1\" class=\"dataframe\">\n",
       "  <thead>\n",
       "    <tr style=\"text-align: right;\">\n",
       "      <th></th>\n",
       "      <th>AT</th>\n",
       "      <th>V</th>\n",
       "      <th>AP</th>\n",
       "      <th>RH</th>\n",
       "      <th>PE</th>\n",
       "    </tr>\n",
       "  </thead>\n",
       "  <tbody>\n",
       "    <tr>\n",
       "      <th>0</th>\n",
       "      <td>22.85</td>\n",
       "      <td>60.29</td>\n",
       "      <td>1017.29</td>\n",
       "      <td>61.92</td>\n",
       "      <td>448.58</td>\n",
       "    </tr>\n",
       "    <tr>\n",
       "      <th>1</th>\n",
       "      <td>11.75</td>\n",
       "      <td>35.76</td>\n",
       "      <td>1018.99</td>\n",
       "      <td>57.92</td>\n",
       "      <td>473.01</td>\n",
       "    </tr>\n",
       "    <tr>\n",
       "      <th>2</th>\n",
       "      <td>12.24</td>\n",
       "      <td>44.90</td>\n",
       "      <td>1020.31</td>\n",
       "      <td>82.22</td>\n",
       "      <td>464.25</td>\n",
       "    </tr>\n",
       "    <tr>\n",
       "      <th>3</th>\n",
       "      <td>13.43</td>\n",
       "      <td>40.10</td>\n",
       "      <td>1015.82</td>\n",
       "      <td>87.90</td>\n",
       "      <td>471.77</td>\n",
       "    </tr>\n",
       "    <tr>\n",
       "      <th>4</th>\n",
       "      <td>4.65</td>\n",
       "      <td>35.19</td>\n",
       "      <td>1018.23</td>\n",
       "      <td>94.78</td>\n",
       "      <td>489.36</td>\n",
       "    </tr>\n",
       "    <tr>\n",
       "      <th>5</th>\n",
       "      <td>13.26</td>\n",
       "      <td>45.51</td>\n",
       "      <td>1015.99</td>\n",
       "      <td>69.82</td>\n",
       "      <td>472.17</td>\n",
       "    </tr>\n",
       "    <tr>\n",
       "      <th>6</th>\n",
       "      <td>14.66</td>\n",
       "      <td>41.66</td>\n",
       "      <td>1012.89</td>\n",
       "      <td>62.41</td>\n",
       "      <td>466.87</td>\n",
       "    </tr>\n",
       "    <tr>\n",
       "      <th>7</th>\n",
       "      <td>8.35</td>\n",
       "      <td>43.52</td>\n",
       "      <td>1022.78</td>\n",
       "      <td>97.34</td>\n",
       "      <td>479.31</td>\n",
       "    </tr>\n",
       "    <tr>\n",
       "      <th>8</th>\n",
       "      <td>29.34</td>\n",
       "      <td>71.98</td>\n",
       "      <td>1005.19</td>\n",
       "      <td>75.19</td>\n",
       "      <td>428.24</td>\n",
       "    </tr>\n",
       "    <tr>\n",
       "      <th>9</th>\n",
       "      <td>7.36</td>\n",
       "      <td>40.07</td>\n",
       "      <td>1017.29</td>\n",
       "      <td>52.55</td>\n",
       "      <td>489.45</td>\n",
       "    </tr>\n",
       "    <tr>\n",
       "      <th>10</th>\n",
       "      <td>19.26</td>\n",
       "      <td>44.34</td>\n",
       "      <td>1019.45</td>\n",
       "      <td>51.32</td>\n",
       "      <td>467.72</td>\n",
       "    </tr>\n",
       "    <tr>\n",
       "      <th>11</th>\n",
       "      <td>16.18</td>\n",
       "      <td>50.88</td>\n",
       "      <td>1014.06</td>\n",
       "      <td>100.09</td>\n",
       "      <td>455.14</td>\n",
       "    </tr>\n",
       "    <tr>\n",
       "      <th>12</th>\n",
       "      <td>6.15</td>\n",
       "      <td>40.77</td>\n",
       "      <td>1022.42</td>\n",
       "      <td>88.57</td>\n",
       "      <td>482.49</td>\n",
       "    </tr>\n",
       "    <tr>\n",
       "      <th>13</th>\n",
       "      <td>27.49</td>\n",
       "      <td>63.76</td>\n",
       "      <td>1010.09</td>\n",
       "      <td>62.80</td>\n",
       "      <td>436.73</td>\n",
       "    </tr>\n",
       "    <tr>\n",
       "      <th>14</th>\n",
       "      <td>12.74</td>\n",
       "      <td>39.13</td>\n",
       "      <td>1008.19</td>\n",
       "      <td>94.81</td>\n",
       "      <td>468.57</td>\n",
       "    </tr>\n",
       "    <tr>\n",
       "      <th>15</th>\n",
       "      <td>30.15</td>\n",
       "      <td>70.32</td>\n",
       "      <td>1007.58</td>\n",
       "      <td>54.14</td>\n",
       "      <td>426.80</td>\n",
       "    </tr>\n",
       "    <tr>\n",
       "      <th>16</th>\n",
       "      <td>29.53</td>\n",
       "      <td>71.97</td>\n",
       "      <td>1008.60</td>\n",
       "      <td>79.25</td>\n",
       "      <td>434.96</td>\n",
       "    </tr>\n",
       "    <tr>\n",
       "      <th>17</th>\n",
       "      <td>31.18</td>\n",
       "      <td>69.04</td>\n",
       "      <td>1008.19</td>\n",
       "      <td>49.72</td>\n",
       "      <td>441.26</td>\n",
       "    </tr>\n",
       "    <tr>\n",
       "      <th>18</th>\n",
       "      <td>13.85</td>\n",
       "      <td>41.39</td>\n",
       "      <td>1018.62</td>\n",
       "      <td>75.55</td>\n",
       "      <td>471.45</td>\n",
       "    </tr>\n",
       "    <tr>\n",
       "      <th>19</th>\n",
       "      <td>23.64</td>\n",
       "      <td>60.95</td>\n",
       "      <td>1014.92</td>\n",
       "      <td>64.91</td>\n",
       "      <td>447.86</td>\n",
       "    </tr>\n",
       "  </tbody>\n",
       "</table>\n",
       "</div>"
      ],
      "text/plain": [
       "       AT      V       AP      RH      PE\n",
       "0   22.85  60.29  1017.29   61.92  448.58\n",
       "1   11.75  35.76  1018.99   57.92  473.01\n",
       "2   12.24  44.90  1020.31   82.22  464.25\n",
       "3   13.43  40.10  1015.82   87.90  471.77\n",
       "4    4.65  35.19  1018.23   94.78  489.36\n",
       "5   13.26  45.51  1015.99   69.82  472.17\n",
       "6   14.66  41.66  1012.89   62.41  466.87\n",
       "7    8.35  43.52  1022.78   97.34  479.31\n",
       "8   29.34  71.98  1005.19   75.19  428.24\n",
       "9    7.36  40.07  1017.29   52.55  489.45\n",
       "10  19.26  44.34  1019.45   51.32  467.72\n",
       "11  16.18  50.88  1014.06  100.09  455.14\n",
       "12   6.15  40.77  1022.42   88.57  482.49\n",
       "13  27.49  63.76  1010.09   62.80  436.73\n",
       "14  12.74  39.13  1008.19   94.81  468.57\n",
       "15  30.15  70.32  1007.58   54.14  426.80\n",
       "16  29.53  71.97  1008.60   79.25  434.96\n",
       "17  31.18  69.04  1008.19   49.72  441.26\n",
       "18  13.85  41.39  1018.62   75.55  471.45\n",
       "19  23.64  60.95  1014.92   64.91  447.86"
      ]
     },
     "execution_count": 6,
     "metadata": {},
     "output_type": "execute_result"
    }
   ],
   "source": [
    "train_df.head(20)"
   ]
  },
  {
   "cell_type": "code",
   "execution_count": 30,
   "metadata": {},
   "outputs": [
    {
     "data": {
      "text/plain": [
       "(8000, 5)"
      ]
     },
     "execution_count": 30,
     "metadata": {},
     "output_type": "execute_result"
    }
   ],
   "source": [
    "train_df.shape\n",
    "#test_df.shape"
   ]
  },
  {
   "cell_type": "code",
   "execution_count": 7,
   "metadata": {},
   "outputs": [],
   "source": [
    "X_train = train_df.drop('PE',1)\n",
    "y_train = train_df['PE']\n",
    "X_test = test_df"
   ]
  },
  {
   "cell_type": "code",
   "execution_count": 10,
   "metadata": {},
   "outputs": [
    {
     "data": {
      "text/plain": [
       "0    448.58\n",
       "1    473.01\n",
       "2    464.25\n",
       "3    471.77\n",
       "4    489.36\n",
       "Name: PE, dtype: float64"
      ]
     },
     "execution_count": 10,
     "metadata": {},
     "output_type": "execute_result"
    }
   ],
   "source": [
    "y_train.head()"
   ]
  },
  {
   "cell_type": "code",
   "execution_count": 12,
   "metadata": {},
   "outputs": [],
   "source": [
    "from sklearn.linear_model import LinearRegression"
   ]
  },
  {
   "cell_type": "code",
   "execution_count": 13,
   "metadata": {},
   "outputs": [],
   "source": [
    "lr = LinearRegression()\n",
    "model = lr.fit(X_train, y_train)"
   ]
  },
  {
   "cell_type": "code",
   "execution_count": 15,
   "metadata": {},
   "outputs": [],
   "source": [
    "y_pred = model.predict(X_test)"
   ]
  },
  {
   "cell_type": "code",
   "execution_count": 37,
   "metadata": {},
   "outputs": [
    {
     "data": {
      "text/plain": [
       "1.0"
      ]
     },
     "execution_count": 37,
     "metadata": {},
     "output_type": "execute_result"
    }
   ],
   "source": [
    "model.score(X_test, y_pred)"
   ]
  },
  {
   "cell_type": "code",
   "execution_count": 16,
   "metadata": {},
   "outputs": [],
   "source": [
    "from matplotlib import pyplot as plt"
   ]
  },
  {
   "cell_type": "code",
   "execution_count": 28,
   "metadata": {},
   "outputs": [
    {
     "data": {
      "text/plain": [
       "(1568,)"
      ]
     },
     "execution_count": 28,
     "metadata": {},
     "output_type": "execute_result"
    }
   ],
   "source": [
    "y_pred.shape"
   ]
  },
  {
   "cell_type": "code",
   "execution_count": 34,
   "metadata": {},
   "outputs": [
    {
     "data": {
      "text/plain": [
       "(8000,)"
      ]
     },
     "execution_count": 34,
     "metadata": {},
     "output_type": "execute_result"
    }
   ],
   "source": [
    "y_train.shape"
   ]
  },
  {
   "cell_type": "code",
   "execution_count": null,
   "metadata": {},
   "outputs": [],
   "source": [
    "from sklearn.metrics import r2_score\n",
    "r2_score()"
   ]
  }
 ],
 "metadata": {
  "kernelspec": {
   "display_name": "Python 3",
   "language": "python",
   "name": "python3"
  },
  "language_info": {
   "codemirror_mode": {
    "name": "ipython",
    "version": 3
   },
   "file_extension": ".py",
   "mimetype": "text/x-python",
   "name": "python",
   "nbconvert_exporter": "python",
   "pygments_lexer": "ipython3",
   "version": "3.8.3"
  }
 },
 "nbformat": 4,
 "nbformat_minor": 4
}
